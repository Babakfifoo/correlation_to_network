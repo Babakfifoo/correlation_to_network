{
 "cells": [
  {
   "cell_type": "markdown",
   "metadata": {},
   "source": [
    "# Correlation to Network graph"
   ]
  },
  {
   "cell_type": "markdown",
   "metadata": {},
   "source": [
    "This code is an expriment to see the important factor in the dataset with the graph generated from the correlation of factors with eachother. criteria is set to semove the edges with low correlation."
   ]
  },
  {
   "cell_type": "code",
   "execution_count": 1,
   "metadata": {},
   "outputs": [],
   "source": [
    "import numpy as np\n",
    "import pandas as pd\n",
    "import geopandas as gdp\n",
    "import math"
   ]
  },
  {
   "cell_type": "markdown",
   "metadata": {},
   "source": [
    "### User Variables:"
   ]
  },
  {
   "cell_type": "code",
   "execution_count": null,
   "metadata": {},
   "outputs": [],
   "source": [
    "# path to the dataset :\n",
    "\n",
    "dataset_path = r\"/correlation_to_network/Dataset.csv\"\n",
    "\n",
    "'''\n",
    "Method of correlation:\n",
    "    1 : pearson : standard correlation coefficient\n",
    "    2 : kendall : Kendall Tau correlation coefficient\n",
    "    3 : spearman : Spearman rank correlation\n",
    "    4 : callable: callable with input two 1d ndarrays\n",
    "'''\n",
    "# choose from list above ↑\n",
    "user_method = 1\n",
    "\n"
   ]
  },
  {
   "cell_type": "code",
   "execution_count": null,
   "metadata": {},
   "outputs": [],
   "source": [
    "correlation_methods = {1: 'pearson' , 2:'kendall', 3:'spearman'}\n",
    "\n",
    "dataset = pd.read_csv()"
   ]
  }
 ],
 "metadata": {
  "kernelspec": {
   "display_name": "Python 3",
   "language": "python",
   "name": "python3"
  },
  "language_info": {
   "codemirror_mode": {
    "name": "ipython",
    "version": 3
   },
   "file_extension": ".py",
   "mimetype": "text/x-python",
   "name": "python",
   "nbconvert_exporter": "python",
   "pygments_lexer": "ipython3",
   "version": "3.7.3"
  }
 },
 "nbformat": 4,
 "nbformat_minor": 4
}
